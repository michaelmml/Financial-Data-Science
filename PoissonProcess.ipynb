{
  "nbformat": 4,
  "nbformat_minor": 0,
  "metadata": {
    "colab": {
      "name": "PoissonProcess.ipynb",
      "provenance": [],
      "authorship_tag": "ABX9TyOAEEfCWkyvAZw1bBCrMIuL"
    },
    "kernelspec": {
      "name": "python3",
      "display_name": "Python 3"
    },
    "language_info": {
      "name": "python"
    }
  },
  "cells": [
    {
      "cell_type": "markdown",
      "source": [
        "# Poisson Process"
      ],
      "metadata": {
        "id": "J2rLRiq5EqiZ"
      }
    },
    {
      "cell_type": "code",
      "source": [
        "import numpy as np\n",
        "import matplotlib.pyplot as plt"
      ],
      "metadata": {
        "id": "kjYG0gxsE5c8"
      },
      "execution_count": 4,
      "outputs": []
    },
    {
      "cell_type": "code",
      "execution_count": 1,
      "metadata": {
        "id": "2PLRWZaBEg5J"
      },
      "outputs": [],
      "source": [
        "def birthdeathmigration(b, d, c, paths):\n",
        "    X0 = 20  # initial population size\n",
        "    N = 200  # maximal population size\n",
        "\n",
        "    s = np.zeros((paths, N))\n",
        "    X = np.zeros((paths, N))\n",
        "    X[:, 0] = X0\n",
        "    s[:, 0] = 0.00\n",
        "\n",
        "    for j in range(paths):\n",
        "        i = 0\n",
        "        while X[j, i] >= 0 and i < (N - 1):\n",
        "            U1 = np.random.rand()\n",
        "            U2 = np.random.rand()\n",
        "            h = - np.log(U1) / ((b + d) * X[j, i] + c)\n",
        "            s[j, i + 1] = s[j, i] + h\n",
        "\n",
        "            if U2 < b * X[j, i] / ((b + d) * X[j, i] + c):\n",
        "                X[j, i + 1] = X[j, i] + 1  # a birth occurs\n",
        "            elif U2 >= b * X[j, i] / ((b + d) * X[j, i] + c) \\\n",
        "                    and U2 < (b + d) * X[j, i] / ((b + d) * X[j, i] + c):\n",
        "                X[j, i + 1] = X[j, i] - 1  # a death occurs\n",
        "            elif U2 >= (b + d) * X[j, i] / ((b + d) * X[j, i] + c):\n",
        "                X[j, i + 1] = X[j, i] + 1  # immigration occurs\n",
        "\n",
        "            i += 1\n",
        "\n",
        "    return [X, s]"
      ]
    },
    {
      "cell_type": "code",
      "source": [
        "def plot(b, d, c, paths):\n",
        "    fig, ax = plt.subplots()\n",
        "\n",
        "    [population, sojourn] = birthdeathmigration(b, d, c, paths)\n",
        "\n",
        "    xmax = max([max(sojourn[k, :]) for k in range(paths)])\n",
        "\n",
        "    for r in range(paths):\n",
        "        plt.step(sojourn[r, :], population[r, :],\n",
        "                 where='pre', label=\"Path %s\" % str(r + 1))\n",
        "\n",
        "    plt.axis([-0.2, xmax + 0.2, -2, 32])  # ymax+2])\n",
        "    ax.set_xlabel('Time', fontsize=14)\n",
        "    ax.set_ylabel('Population Size', fontsize=14)\n",
        "    plt.text(0.5, 0.9, '$\\\\beta = %s$' % c, fontsize=14,\n",
        "             horizontalalignment='center',\n",
        "             verticalalignment='center',\n",
        "             transform=ax.transAxes)\n",
        "    plt.xticks(fontsize=14)\n",
        "    plt.yticks(fontsize=14)\n",
        "    plt.tight_layout()\n",
        "    plt.legend(loc=1)\n",
        "    plt.grid(True)\n",
        "    plt.show()"
      ],
      "metadata": {
        "id": "1EMtx8csEshx"
      },
      "execution_count": 2,
      "outputs": []
    },
    {
      "cell_type": "code",
      "source": [
        "b = 0.5  # birth rate\n",
        "d = 1.0  # death rate\n",
        "c = 1.0  # immigration rate\n",
        "num = 4\n",
        "plot(b, d, c, num)"
      ],
      "metadata": {
        "colab": {
          "base_uri": "https://localhost:8080/",
          "height": 297
        },
        "id": "gpRg0yMgEvLR",
        "outputId": "35240da8-56d6-45c8-f50a-62b4ac9526dd"
      },
      "execution_count": 5,
      "outputs": [
        {
          "output_type": "display_data",
          "data": {
            "image/png": "[encoded data removed]",
            "text/plain": [
              "<Figure size 432x288 with 1 Axes>"
            ]
          },
          "metadata": {
            "needs_background": "light"
          }
        }
      ]
    }
  ]
}