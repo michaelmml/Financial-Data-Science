{
  "nbformat": 4,
  "nbformat_minor": 0,
  "metadata": {
    "colab": {
      "name": "Black-Scholes.ipynb",
      "provenance": [],
      "authorship_tag": "ABX9TyOABHzm0Lz8mQv2OLEgshOP"
    },
    "kernelspec": {
      "name": "python3",
      "display_name": "Python 3"
    },
    "language_info": {
      "name": "python"
    }
  },
  "cells": [
    {
      "cell_type": "markdown",
      "source": [
        "# Options Pricing with Black Scholes"
      ],
      "metadata": {
        "id": "UjjbheNziVTu"
      }
    },
    {
      "cell_type": "code",
      "execution_count": null,
      "metadata": {
        "id": "XoLTqp42hs6C"
      },
      "outputs": [],
      "source": [
        "def covariance(sigma1,sigma2):\n",
        "    return sqrt(sigma1**2-2*sigma1*sigma2+sigma2**2)\n",
        "\n",
        "def d1(S1,S2,T,r,sigma1,sigma2):\n",
        "    return (log(S1/S2)+(r+(covariance(sigma1,sigma2)**2)/2.)*T)/(covariance(sigma1,sigma2)*sqrt(T))\n",
        "\n",
        "def d2(S1,S2,T,r,sigma1,sigma2):\n",
        "    return (log(S1/S2)+(r-(covariance(sigma1,sigma2)**2)/2.)*T)/(covariance(sigma1,sigma2)*sqrt(T))\n",
        "\n",
        "def bs_call(S1,S2,T,r,sigma1,sigma2):\n",
        "    return S1 * norm.cdf(d1(S1,S2,T,r,sigma1,sigma2)) - S2 * exp(-r * T) * norm.cdf(d2(S1,S2,T,r,sigma1,sigma2))\n",
        "\n",
        "def bs_put(S1,S2,T,r,sigma1,sigma2):\n",
        "    return S2 * exp(-r * T) - S1 + bs_call(S1,S2,T,r,sigma1,sigma2)"
      ]
    },
    {
      "cell_type": "code",
      "source": [
        "today = datetime.now()\n",
        "one_year_ago = today.replace(year=today.year-1)\n",
        "expiry = '02-25-2021'"
      ],
      "metadata": {
        "id": "hUClonogh4fB"
      },
      "execution_count": null,
      "outputs": []
    },
    {
      "cell_type": "code",
      "source": [
        "stock1 = 'AAPL'"
      ],
      "metadata": {
        "id": "aSQONfSuh5xg"
      },
      "execution_count": null,
      "outputs": []
    },
    {
      "cell_type": "code",
      "source": [
        "dfone = web.DataReader(stock1, 'yahoo', one_year_ago, today)"
      ],
      "metadata": {
        "id": "JAE2egjeh7Xx"
      },
      "execution_count": null,
      "outputs": []
    },
    {
      "cell_type": "code",
      "source": [
        "dfone = dfone.sort_values(by=\"Date\")\n",
        "dfone = dfone.dropna()\n",
        "dfone = dfone.assign(close_day_before=dfone.Close.shift(1))\n",
        "dfone['returns'] = ((dfone.Close - dfone.close_day_before)/dfone.close_day_before)"
      ],
      "metadata": {
        "id": "CBQlIA9Gh8Zt"
      },
      "execution_count": null,
      "outputs": []
    },
    {
      "cell_type": "code",
      "source": [
        "sigma1 = np.sqrt(252) * dfone['returns'].std()\n",
        "lcp1 = dfone['Close'].iloc[-1]"
      ],
      "metadata": {
        "id": "7JxDhtO9iB0Y"
      },
      "execution_count": null,
      "outputs": []
    },
    {
      "cell_type": "code",
      "source": [
        "stock2 = 'GE'"
      ],
      "metadata": {
        "id": "rhKLUBLRiE1G"
      },
      "execution_count": null,
      "outputs": []
    },
    {
      "cell_type": "code",
      "source": [
        "dftwo = web.DataReader(stock2, 'yahoo', one_year_ago, today)"
      ],
      "metadata": {
        "id": "ZWNTrs-JiGDx"
      },
      "execution_count": null,
      "outputs": []
    },
    {
      "cell_type": "code",
      "source": [
        "dftwo = dftwo.sort_values(by=\"Date\")\n",
        "dftwo = dftwo.dropna()\n",
        "dftwo = dftwo.assign(close_day_before=dftwo.Close.shift(1))\n",
        "dftwo['returns'] = ((dftwo.Close - dftwo.close_day_before)/dftwo.close_day_before)"
      ],
      "metadata": {
        "id": "UesYuxpeiH6y"
      },
      "execution_count": null,
      "outputs": []
    },
    {
      "cell_type": "code",
      "source": [
        "sigma2 = np.sqrt(252) * dftwo['returns'].std()\n",
        "lcp2 = dftwo['Close'].iloc[-1]"
      ],
      "metadata": {
        "id": "XIOEny4piJbg"
      },
      "execution_count": null,
      "outputs": []
    },
    {
      "cell_type": "code",
      "source": [
        "uty = web.DataReader(\n",
        "    \"^TNX\", 'yahoo', today.replace(day=today.day-1), today)['Close'].iloc[-1]\n",
        "t = (datetime.strptime(expiry, \"%m-%d-%Y\") - datetime.utcnow()).days / 365"
      ],
      "metadata": {
        "id": "UH7DGOYciSST"
      },
      "execution_count": null,
      "outputs": []
    },
    {
      "cell_type": "code",
      "source": [
        "print('The Option Price is: ', bs_call(lcp1, lcp2, t, uty, sigma1, sigma2))"
      ],
      "metadata": {
        "id": "h1uQloxuiTsx"
      },
      "execution_count": null,
      "outputs": []
    }
  ]
}