{
  "nbformat": 4,
  "nbformat_minor": 0,
  "metadata": {
    "colab": {
      "name": "Black-Scholes.ipynb",
      "provenance": [],
      "authorship_tag": "ABX9TyNh475Cfzu9wUulasUle81h"
    },
    "kernelspec": {
      "name": "python3",
      "display_name": "Python 3"
    },
    "language_info": {
      "name": "python"
    }
  },
  "cells": [
    {
      "cell_type": "markdown",
      "source": [
        "# Options Pricing with Black Scholes\n",
        "\n",
        "**Defining the components of the Black Scholes equation.**"
      ],
      "metadata": {
        "id": "UjjbheNziVTu"
      }
    },
    {
      "cell_type": "code",
      "execution_count": null,
      "metadata": {
        "id": "XoLTqp42hs6C"
      },
      "outputs": [],
      "source": [
        "def covariance(sigma1,sigma2):\n",
        "    return sqrt(sigma1**2-2*sigma1*sigma2+sigma2**2)\n",
        "\n",
        "def d1(S1,S2,T,r,sigma1,sigma2):\n",
        "    return (log(S1/S2)+(r+(covariance(sigma1,sigma2)**2)/2.)*T)/(covariance(sigma1,sigma2)*sqrt(T))\n",
        "\n",
        "def d2(S1,S2,T,r,sigma1,sigma2):\n",
        "    return (log(S1/S2)+(r-(covariance(sigma1,sigma2)**2)/2.)*T)/(covariance(sigma1,sigma2)*sqrt(T))\n",
        "\n",
        "def bs_call(S1,S2,T,r,sigma1,sigma2):\n",
        "    return S1 * norm.cdf(d1(S1,S2,T,r,sigma1,sigma2)) - S2 * exp(-r * T) * norm.cdf(d2(S1,S2,T,r,sigma1,sigma2))\n",
        "\n",
        "def bs_put(S1,S2,T,r,sigma1,sigma2):\n",
        "    return S2 * exp(-r * T) - S1 + bs_call(S1,S2,T,r,sigma1,sigma2)"
      ]
    },
    {
      "cell_type": "markdown",
      "source": [
        "**Extract share price data from Yahoo Finance**"
      ],
      "metadata": {
        "id": "pljp3z-nEOEY"
      }
    },
    {
      "cell_type": "code",
      "source": [
        "today = datetime.now()\n",
        "one_year_ago = today.replace(year=today.year-1)\n",
        "expiry = '02-25-2021'"
      ],
      "metadata": {
        "id": "hUClonogh4fB"
      },
      "execution_count": null,
      "outputs": []
    },
    {
      "cell_type": "code",
      "source": [
        "stock1 = 'AAPL'"
      ],
      "metadata": {
        "id": "aSQONfSuh5xg"
      },
      "execution_count": null,
      "outputs": []
    },
    {
      "cell_type": "code",
      "source": [
        "dfone = web.DataReader(stock1, 'yahoo', one_year_ago, today)"
      ],
      "metadata": {
        "id": "JAE2egjeh7Xx"
      },
      "execution_count": null,
      "outputs": []
    },
    {
      "cell_type": "code",
      "source": [
        "dfone = dfone.sort_values(by=\"Date\")\n",
        "dfone = dfone.dropna()\n",
        "dfone = dfone.assign(close_day_before=dfone.Close.shift(1))\n",
        "dfone['returns'] = ((dfone.Close - dfone.close_day_before)/dfone.close_day_before)"
      ],
      "metadata": {
        "id": "CBQlIA9Gh8Zt"
      },
      "execution_count": null,
      "outputs": []
    },
    {
      "cell_type": "code",
      "source": [
        "sigma1 = np.sqrt(252) * dfone['returns'].std()\n",
        "lcp1 = dfone['Close'].iloc[-1]"
      ],
      "metadata": {
        "id": "7JxDhtO9iB0Y"
      },
      "execution_count": null,
      "outputs": []
    },
    {
      "cell_type": "code",
      "source": [
        "stock2 = 'GE'"
      ],
      "metadata": {
        "id": "rhKLUBLRiE1G"
      },
      "execution_count": null,
      "outputs": []
    },
    {
      "cell_type": "code",
      "source": [
        "dftwo = web.DataReader(stock2, 'yahoo', one_year_ago, today)"
      ],
      "metadata": {
        "id": "ZWNTrs-JiGDx"
      },
      "execution_count": null,
      "outputs": []
    },
    {
      "cell_type": "code",
      "source": [
        "dftwo = dftwo.sort_values(by=\"Date\")\n",
        "dftwo = dftwo.dropna()\n",
        "dftwo = dftwo.assign(close_day_before=dftwo.Close.shift(1))\n",
        "dftwo['returns'] = ((dftwo.Close - dftwo.close_day_before)/dftwo.close_day_before)"
      ],
      "metadata": {
        "id": "UesYuxpeiH6y"
      },
      "execution_count": null,
      "outputs": []
    },
    {
      "cell_type": "code",
      "source": [
        "sigma2 = np.sqrt(252) * dftwo['returns'].std()\n",
        "lcp2 = dftwo['Close'].iloc[-1]"
      ],
      "metadata": {
        "id": "XIOEny4piJbg"
      },
      "execution_count": null,
      "outputs": []
    },
    {
      "cell_type": "code",
      "source": [
        "uty = web.DataReader(\n",
        "    \"^TNX\", 'yahoo', today.replace(day=today.day-1), today)['Close'].iloc[-1]\n",
        "t = (datetime.strptime(expiry, \"%m-%d-%Y\") - datetime.utcnow()).days / 365"
      ],
      "metadata": {
        "id": "UH7DGOYciSST"
      },
      "execution_count": null,
      "outputs": []
    },
    {
      "cell_type": "code",
      "source": [
        "print('The Option Price is: ', bs_call(lcp1, lcp2, t, uty, sigma1, sigma2))"
      ],
      "metadata": {
        "id": "h1uQloxuiTsx"
      },
      "execution_count": null,
      "outputs": []
    },
    {
      "cell_type": "code",
      "source": [
        "!pip install opstrat"
      ],
      "metadata": {
        "id": "kA_2BdDaa61e"
      },
      "execution_count": null,
      "outputs": []
    },
    {
      "cell_type": "code",
      "source": [
        "import opstrat as op"
      ],
      "metadata": {
        "id": "Ldrd_UFZa9qr"
      },
      "execution_count": null,
      "outputs": []
    },
    {
      "cell_type": "code",
      "source": [
        "op_1 = {'op_type': 'c', 'strike':340, 'tr_type': 'b'}\n",
        "op_2 = {'op_type': 'p', 'strike':340, 'tr_type': 'b'}\n",
        "\n",
        "op.yf_plotter(ticker='GS', exp='2022-04-08', \n",
        "              op_list=[op_1, op_2])"
      ],
      "metadata": {
        "colab": {
          "base_uri": "https://localhost:8080/",
          "height": 441
        },
        "id": "GdKtyc3sbBcm",
        "outputId": "b1d0549b-3a5f-4899-a191-a6e87b22b327"
      },
      "execution_count": null,
      "outputs": [
        {
          "output_type": "display_data",
          "data": {
            "text/plain": [
              "<Figure size 720x432 with 1 Axes>"
            ],
            "image/png": "[encoded data removed]"
          },
          "metadata": {
            "needs_background": "light"
          }
        }
      ]
    },
    {
      "cell_type": "markdown",
      "source": [
        "# Portfolio with Options / Dynamic Hedging\n",
        "\n",
        "As we saw from the derivation and the actual Black Scholes model, the partial derivative can tell us how the option value changes when one of these exposures changes holding the others constant.\n",
        "\n",
        "In this example we have a short position in 1000 stock calls, we want to hedge our exposure to changes in volatility, movements in the underlying asset, and the speed of movements in the underlying asset."
      ],
      "metadata": {
        "id": "od97Pa-Qf05-"
      }
    },
    {
      "cell_type": "code",
      "source": [
        "import math\n",
        "from scipy.stats import norm"
      ],
      "metadata": {
        "id": "H_BP0ecHfvmv"
      },
      "execution_count": null,
      "outputs": []
    },
    {
      "cell_type": "markdown",
      "source": [
        "Delta: the first-order partial-derivative with respect to the underlying asset of the Black-Scholes equation is known as delta. Delta refers to how the option value changes when there is a change in the underlying asset price. \n",
        "\n",
        "Gamma: the second-order partial-derivative with respect to the underlying asset of the Black-Scholes equation is known as gamma. Gamma refers to how the option’s delta changes when there is a change in the underlying asset price.\n",
        "\n",
        "Vega: The first-order partial-derivative with respect to the underlying asset volatility of the Black-Scholes equation is known as vega. Vega refers to how the option value changes when there is a change in the underlying asset volatility."
      ],
      "metadata": {
        "id": "_EpEBjPLj2U5"
      }
    },
    {
      "cell_type": "code",
      "source": [
        "class EuropeanCall:\n",
        "\n",
        "    def call_delta(\n",
        "        self, asset_price, asset_volatility, strike_price,\n",
        "        time_to_expiration, risk_free_rate\n",
        "            ):\n",
        "        b = math.exp(-risk_free_rate*time_to_expiration)\n",
        "        x1 = math.log(asset_price/(b*strike_price)) + .5*(asset_volatility*asset_volatility)*time_to_expiration\n",
        "        x1 = x1/(asset_volatility*(time_to_expiration**.5))\n",
        "        z1 = norm.cdf(x1)\n",
        "        return z1\n",
        "\n",
        "    def call_gamma(\n",
        "        self, asset_price, asset_volatility, strike_price,\n",
        "        time_to_expiration, risk_free_rate\n",
        "            ):\n",
        "        b = math.exp(-risk_free_rate*time_to_expiration)\n",
        "        x1 = math.log(asset_price/(b*strike_price)) + .5*(asset_volatility*asset_volatility)*time_to_expiration\n",
        "        x1 = x1/(asset_volatility*(time_to_expiration**.5))\n",
        "        z1 = norm.cdf(x1)\n",
        "        z2 = z1/(asset_price*asset_volatility*math.sqrt(time_to_expiration))\n",
        "        return z2\n",
        "\n",
        "    def call_vega(\n",
        "        self, asset_price, asset_volatility, strike_price,\n",
        "        time_to_expiration, risk_free_rate\n",
        "            ):\n",
        "        b = math.exp(-risk_free_rate*time_to_expiration)\n",
        "        x1 = math.log(asset_price/(b*strike_price)) + .5*(asset_volatility*asset_volatility)*time_to_expiration\n",
        "        x1 = x1/(asset_volatility*(time_to_expiration**.5))\n",
        "        z1 = norm.cdf(x1)\n",
        "        z2 = asset_price*z1*math.sqrt(time_to_expiration)\n",
        "        return z2/100\n",
        "\n",
        "    def call_price(\n",
        "        self, asset_price, asset_volatility, strike_price,\n",
        "        time_to_expiration, risk_free_rate\n",
        "            ):\n",
        "        b = math.exp(-risk_free_rate*time_to_expiration)\n",
        "        x1 = math.log(asset_price/(b*strike_price)) + .5*(asset_volatility*asset_volatility)*time_to_expiration\n",
        "        x1 = x1/(asset_volatility*(time_to_expiration**.5))\n",
        "        z1 = norm.cdf(x1)\n",
        "        z1 = z1*asset_price\n",
        "        x2 = math.log(asset_price/(b*strike_price)) - .5*(asset_volatility*asset_volatility)*time_to_expiration\n",
        "        x2 = x2/(asset_volatility*(time_to_expiration**.5))\n",
        "        z2 = norm.cdf(x2)\n",
        "        z2 = b*strike_price*z2\n",
        "        return z1 - z2\n",
        "\n",
        "    def __init__(\n",
        "        self, asset_price, asset_volatility, strike_price,\n",
        "        time_to_expiration, risk_free_rate\n",
        "            ):\n",
        "        self.asset_price = asset_price\n",
        "        self.asset_volatility = asset_volatility\n",
        "        self.strike_price = strike_price\n",
        "        self.time_to_expiration = time_to_expiration\n",
        "        self.risk_free_rate = risk_free_rate\n",
        "        self.price = self.call_price(asset_price, asset_volatility, strike_price, time_to_expiration, risk_free_rate)\n",
        "        self.delta = self.call_delta(asset_price, asset_volatility, strike_price, time_to_expiration, risk_free_rate)\n",
        "        self.gamma = self.call_gamma(asset_price, asset_volatility, strike_price, time_to_expiration, risk_free_rate)\n",
        "        self.vega = self.call_vega(asset_price, asset_volatility, strike_price, time_to_expiration, risk_free_rate)"
      ],
      "metadata": {
        "id": "3yB1FjRRgYjo"
      },
      "execution_count": null,
      "outputs": []
    },
    {
      "cell_type": "code",
      "source": [
        "class EuropeanPut:\n",
        "\n",
        "    def put_delta(\n",
        "        self, asset_price, asset_volatility, strike_price,\n",
        "        time_to_expiration, risk_free_rate\n",
        "            ):\n",
        "        b = math.exp(-risk_free_rate*time_to_expiration)\n",
        "        x1 = math.log(asset_price/(b*strike_price)) + .5*(asset_volatility*asset_volatility)*time_to_expiration\n",
        "        x1 = x1/(asset_volatility*(time_to_expiration**.5))\n",
        "        z1 = norm.cdf(x1)\n",
        "        return z1 - 1\n",
        "\n",
        "    def put_gamma(\n",
        "        self, asset_price, asset_volatility, strike_price,\n",
        "        time_to_expiration, risk_free_rate\n",
        "            ):\n",
        "        b = math.exp(-risk_free_rate*time_to_expiration)\n",
        "        x1 = math.log(asset_price/(b*strike_price)) + .5*(asset_volatility*asset_volatility)*time_to_expiration\n",
        "        x1 = x1/(asset_volatility*(time_to_expiration**.5))\n",
        "        z1 = norm.cdf(x1)\n",
        "        z2 = z1/(asset_price*asset_volatility*math.sqrt(time_to_expiration))\n",
        "        return z2\n",
        "\n",
        "    def put_vega(\n",
        "        self, asset_price, asset_volatility, strike_price,\n",
        "        time_to_expiration, risk_free_rate\n",
        "            ):\n",
        "        b = math.exp(-risk_free_rate*time_to_expiration)\n",
        "        x1 = math.log(asset_price/(b*strike_price)) + .5*(asset_volatility*asset_volatility)*time_to_expiration\n",
        "        x1 = x1/(asset_volatility*(time_to_expiration**.5))\n",
        "        z1 = norm.cdf(x1)\n",
        "        z2 = asset_price*z1*math.sqrt(time_to_expiration)\n",
        "        return z2/100\n",
        "\n",
        "    def put_price(\n",
        "        self, asset_price, asset_volatility, strike_price,\n",
        "        time_to_expiration, risk_free_rate\n",
        "            ):\n",
        "        b = math.exp(-risk_free_rate*time_to_expiration)\n",
        "        x1 = math.log((b*strike_price)/asset_price) + .5*(asset_volatility*asset_volatility)*time_to_expiration\n",
        "        x1 = x1/(asset_volatility*(time_to_expiration**.5))\n",
        "        z1 = norm.cdf(x1)\n",
        "        z1 = b*strike_price*z1\n",
        "        x2 = math.log((b*strike_price)/asset_price) - .5*(asset_volatility*asset_volatility)*time_to_expiration\n",
        "        x2 = x2/(asset_volatility*(time_to_expiration**.5))\n",
        "        z2 = norm.cdf(x2)\n",
        "        z2 = asset_price*z2\n",
        "        return z1 - z2\n",
        "\n",
        "    def __init__(\n",
        "        self, asset_price, asset_volatility, strike_price,\n",
        "        time_to_expiration, risk_free_rate\n",
        "            ):\n",
        "        self.asset_price = asset_price\n",
        "        self.asset_volatility = asset_volatility\n",
        "        self.strike_price = strike_price\n",
        "        self.time_to_expiration = time_to_expiration\n",
        "        self.risk_free_rate = risk_free_rate\n",
        "        self.price = self.put_price(asset_price, asset_volatility, strike_price, time_to_expiration, risk_free_rate)\n",
        "        self.delta = self.put_delta(asset_price, asset_volatility, strike_price, time_to_expiration, risk_free_rate)\n",
        "        self.gamma = self.put_gamma(asset_price, asset_volatility, strike_price, time_to_expiration, risk_free_rate)\n",
        "        self.vega = self.put_vega(asset_price, asset_volatility, strike_price, time_to_expiration, risk_free_rate)"
      ],
      "metadata": {
        "id": "eQvOYCWJgaxm"
      },
      "execution_count": null,
      "outputs": []
    },
    {
      "cell_type": "code",
      "source": [
        "short = EuropeanCall(543, .53, 545, 30/365, .015)\n",
        "print(short.delta*(-1000))\n",
        "print(short.gamma*(-1000))\n",
        "print(short.vega*(-1000))"
      ],
      "metadata": {
        "id": "8HE0uAVqgiBb"
      },
      "execution_count": null,
      "outputs": []
    },
    {
      "cell_type": "code",
      "source": [
        "call_a = EuropeanCall(543, .53, 550, 30/365, .015)\n",
        "print(call_a.delta)\n",
        "print(call_a.gamma)\n",
        "print(call_a.vega)\n",
        "\n",
        "call_b = EuropeanCall(543, .53, 555, 30/365, .015)\n",
        "print(call_b.delta)\n",
        "print(call_b.gamma)\n",
        "print(call_b.vega)"
      ],
      "metadata": {
        "id": "PI6fymQWgvvK"
      },
      "execution_count": null,
      "outputs": []
    },
    {
      "cell_type": "markdown",
      "source": [
        "**Underlying Asset (NVDA Stock):\n",
        "Delta: 1\n",
        "Gamma: 0\n",
        "Vega: 0**\n",
        "\n",
        "Using a combination of these assets we can neutralize our portfolio’s exposure to delta, gamma, and vega."
      ],
      "metadata": {
        "id": "ZBVTp1UugzlK"
      }
    },
    {
      "cell_type": "code",
      "source": [
        "greeks = np.array([[call_a.gamma, call_b.gamma], [call_a.vega, call_b.vega]])\n",
        "portfolio_greeks = [[short.gamma*1000], [short.vega*1000]]\n",
        "\n",
        "# We need to round otherwise we can end up with a non-invertible matrix\n",
        "inv = np.linalg.inv(np.round(greeks, 2))\n",
        "print(inv)"
      ],
      "metadata": {
        "id": "P8CCEhMvg1N9"
      },
      "execution_count": null,
      "outputs": []
    },
    {
      "cell_type": "code",
      "source": [
        "w = np.dot(inv, portfolio_greeks)\n",
        "print(w)"
      ],
      "metadata": {
        "id": "-7cxfqVdkp0_"
      },
      "execution_count": null,
      "outputs": []
    },
    {
      "cell_type": "markdown",
      "source": [
        "Using these weights we will have effectively neutralized our exposure to gamma and vega…"
      ],
      "metadata": {
        "id": "yP8hFX72kt7L"
      }
    },
    {
      "cell_type": "code",
      "source": [
        "print(np.round(np.dot(np.round(greeks, 2), w) - portfolio_greeks))"
      ],
      "metadata": {
        "id": "Y2GyYVMnkvBU"
      },
      "execution_count": null,
      "outputs": []
    },
    {
      "cell_type": "markdown",
      "source": [
        "To find our new exposure, we take the sum-product of all option positions in our portfolio with their respective deltas."
      ],
      "metadata": {
        "id": "6_ZzOWaEkzeH"
      }
    },
    {
      "cell_type": "code",
      "source": [
        "# Greeks including delta\n",
        "portfolio_greeks = [[short_nvda.delta*-1000], [short_nvda.gamma*-1000], [short_nvda.vega*-1000]]\n",
        "greeks = np.array([[call_a.delta, call_b.delta], [call_a.gamma, call_b.gamma], [call_a.vega, call_b.vega]])\n",
        "print(np.round(np.dot(np.round(greeks, 2), w) + portfolio_greeks))"
      ],
      "metadata": {
        "id": "MzSrvD48kwHn"
      },
      "execution_count": null,
      "outputs": []
    }
  ]
}